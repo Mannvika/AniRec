{
 "cells": [
  {
   "cell_type": "markdown",
   "id": "be5c21f6",
   "metadata": {},
   "source": [
    "# Content Filtering Testing Notebook"
   ]
  },
  {
   "cell_type": "markdown",
   "id": "c21c9068",
   "metadata": {},
   "source": [
    "# 0. Imports and Data Loading"
   ]
  },
  {
   "cell_type": "code",
   "execution_count": 8,
   "id": "6ad81e22",
   "metadata": {},
   "outputs": [],
   "source": [
    "import sys\n",
    "import os\n",
    "\n",
    "module_path = os.path.abspath(os.path.join('..'))\n",
    "if module_path not in sys.path:\n",
    "    sys.path.append(module_path)\n",
    "\n",
    "import pandas as pd\n",
    "import numpy as np\n",
    "from sklearn.feature_extraction.text import TfidfVectorizer\n",
    "from sklearn.metrics.pairwise import cosine_similarity\n",
    "from database.db_helper import connect_to_db, close_connection"
   ]
  },
  {
   "cell_type": "code",
   "execution_count": 3,
   "id": "301347ff",
   "metadata": {},
   "outputs": [
    {
     "name": "stdout",
     "output_type": "stream",
     "text": [
      "Database connection established successfully.\n",
      "Database connection closed.\n"
     ]
    },
    {
     "name": "stderr",
     "output_type": "stream",
     "text": [
      "C:\\Users\\manav\\AppData\\Local\\Temp\\ipykernel_24512\\1464495148.py:5: UserWarning: pandas only supports SQLAlchemy connectable (engine/connection) or database string URI or sqlite3 DBAPI2 connection. Other DBAPI2 objects are not tested. Please consider using SQLAlchemy.\n",
      "  df = pd.read_sql(query, conn)\n"
     ]
    }
   ],
   "source": [
    "# Load the dataset from the database, postgre\n",
    "def load_dataset():\n",
    "    conn = connect_to_db()\n",
    "    query = \"SELECT * FROM anime_data.anime;\"\n",
    "    df = pd.read_sql(query, conn)\n",
    "    close_connection(conn)\n",
    "    return df\n",
    "\n",
    "df = load_dataset()"
   ]
  },
  {
   "cell_type": "code",
   "execution_count": 5,
   "id": "0a9f690d",
   "metadata": {},
   "outputs": [
    {
     "data": {
      "text/html": [
       "<div>\n",
       "<style scoped>\n",
       "    .dataframe tbody tr th:only-of-type {\n",
       "        vertical-align: middle;\n",
       "    }\n",
       "\n",
       "    .dataframe tbody tr th {\n",
       "        vertical-align: top;\n",
       "    }\n",
       "\n",
       "    .dataframe thead th {\n",
       "        text-align: right;\n",
       "    }\n",
       "</style>\n",
       "<table border=\"1\" class=\"dataframe\">\n",
       "  <thead>\n",
       "    <tr style=\"text-align: right;\">\n",
       "      <th></th>\n",
       "      <th>mal_id</th>\n",
       "      <th>title</th>\n",
       "      <th>synopsis</th>\n",
       "      <th>score</th>\n",
       "      <th>popularity</th>\n",
       "      <th>genres</th>\n",
       "      <th>themes</th>\n",
       "      <th>demographics</th>\n",
       "      <th>studios</th>\n",
       "      <th>producers</th>\n",
       "      <th>content_string</th>\n",
       "    </tr>\n",
       "  </thead>\n",
       "  <tbody>\n",
       "    <tr>\n",
       "      <th>0</th>\n",
       "      <td>48824</td>\n",
       "      <td>Blue Archive PVs</td>\n",
       "      <td>Animated promotions for the mobile game Blue A...</td>\n",
       "      <td>7.46</td>\n",
       "      <td>7773</td>\n",
       "      <td>[Fantasy]</td>\n",
       "      <td>[]</td>\n",
       "      <td>[]</td>\n",
       "      <td>[Yostar Pictures]</td>\n",
       "      <td>[]</td>\n",
       "      <td>Fantasy   Animated promotions mobile game Blue...</td>\n",
       "    </tr>\n",
       "    <tr>\n",
       "      <th>1</th>\n",
       "      <td>2768</td>\n",
       "      <td>CLAMP in Wonderland 2</td>\n",
       "      <td>A short animation which features clips from al...</td>\n",
       "      <td>7.42</td>\n",
       "      <td>5155</td>\n",
       "      <td>[Action, Comedy, Drama, Fantasy, Romance]</td>\n",
       "      <td>[Music]</td>\n",
       "      <td>[]</td>\n",
       "      <td>[Madhouse]</td>\n",
       "      <td>[Victor Entertainment]</td>\n",
       "      <td>Action Comedy Drama Fantasy Romance Music shor...</td>\n",
       "    </tr>\n",
       "    <tr>\n",
       "      <th>2</th>\n",
       "      <td>8514</td>\n",
       "      <td>Break Blade Movie 2: Ketsubetsu no Michi</td>\n",
       "      <td>Second Break Blade movie.</td>\n",
       "      <td>7.70</td>\n",
       "      <td>3017</td>\n",
       "      <td>[Action, Fantasy]</td>\n",
       "      <td>[Adult Cast, Mecha, Military]</td>\n",
       "      <td>[Shounen]</td>\n",
       "      <td>[Production I.G, Xebec]</td>\n",
       "      <td>[KlockWorx, Flex Comix, Fields]</td>\n",
       "      <td>Action Fantasy Adult Cast Mecha Military Secon...</td>\n",
       "    </tr>\n",
       "    <tr>\n",
       "      <th>3</th>\n",
       "      <td>27633</td>\n",
       "      <td>Gekkan Shoujo Nozaki-kun Specials</td>\n",
       "      <td>Specials bundled with the Blu-ray/DVDs.</td>\n",
       "      <td>7.70</td>\n",
       "      <td>1753</td>\n",
       "      <td>[Comedy, Romance]</td>\n",
       "      <td>[School]</td>\n",
       "      <td>[]</td>\n",
       "      <td>[Doga Kobo]</td>\n",
       "      <td>[Media Factory]</td>\n",
       "      <td>Comedy Romance School Specials bundled Blu ray...</td>\n",
       "    </tr>\n",
       "    <tr>\n",
       "      <th>4</th>\n",
       "      <td>57995</td>\n",
       "      <td>Bai Yao Pu 4th Season</td>\n",
       "      <td>Fourth season of Bai Yao Pu.</td>\n",
       "      <td>7.58</td>\n",
       "      <td>11702</td>\n",
       "      <td>[Adventure, Mystery, Supernatural]</td>\n",
       "      <td>[Historical]</td>\n",
       "      <td>[]</td>\n",
       "      <td>[CMC Media]</td>\n",
       "      <td>[bilibili]</td>\n",
       "      <td>Adventure Mystery Supernatural Historical Four...</td>\n",
       "    </tr>\n",
       "  </tbody>\n",
       "</table>\n",
       "</div>"
      ],
      "text/plain": [
       "   mal_id                                     title  \\\n",
       "0   48824                          Blue Archive PVs   \n",
       "1    2768                     CLAMP in Wonderland 2   \n",
       "2    8514  Break Blade Movie 2: Ketsubetsu no Michi   \n",
       "3   27633         Gekkan Shoujo Nozaki-kun Specials   \n",
       "4   57995                     Bai Yao Pu 4th Season   \n",
       "\n",
       "                                            synopsis  score  popularity  \\\n",
       "0  Animated promotions for the mobile game Blue A...   7.46        7773   \n",
       "1  A short animation which features clips from al...   7.42        5155   \n",
       "2                          Second Break Blade movie.   7.70        3017   \n",
       "3            Specials bundled with the Blu-ray/DVDs.   7.70        1753   \n",
       "4                       Fourth season of Bai Yao Pu.   7.58       11702   \n",
       "\n",
       "                                      genres                         themes  \\\n",
       "0                                  [Fantasy]                             []   \n",
       "1  [Action, Comedy, Drama, Fantasy, Romance]                        [Music]   \n",
       "2                          [Action, Fantasy]  [Adult Cast, Mecha, Military]   \n",
       "3                          [Comedy, Romance]                       [School]   \n",
       "4         [Adventure, Mystery, Supernatural]                   [Historical]   \n",
       "\n",
       "  demographics                  studios                        producers  \\\n",
       "0           []        [Yostar Pictures]                               []   \n",
       "1           []               [Madhouse]           [Victor Entertainment]   \n",
       "2    [Shounen]  [Production I.G, Xebec]  [KlockWorx, Flex Comix, Fields]   \n",
       "3           []              [Doga Kobo]                  [Media Factory]   \n",
       "4           []              [CMC Media]                       [bilibili]   \n",
       "\n",
       "                                      content_string  \n",
       "0  Fantasy   Animated promotions mobile game Blue...  \n",
       "1  Action Comedy Drama Fantasy Romance Music shor...  \n",
       "2  Action Fantasy Adult Cast Mecha Military Secon...  \n",
       "3  Comedy Romance School Specials bundled Blu ray...  \n",
       "4  Adventure Mystery Supernatural Historical Four...  "
      ]
     },
     "execution_count": 5,
     "metadata": {},
     "output_type": "execute_result"
    }
   ],
   "source": [
    "df.head()"
   ]
  },
  {
   "cell_type": "markdown",
   "id": "80598525",
   "metadata": {},
   "source": [
    "# 1. Calculate Similarity Between Anime"
   ]
  },
  {
   "cell_type": "markdown",
   "id": "48450254",
   "metadata": {},
   "source": [
    "First convert text of content string into vectors."
   ]
  },
  {
   "cell_type": "code",
   "execution_count": 6,
   "id": "9ffb003b",
   "metadata": {},
   "outputs": [
    {
     "name": "stdout",
     "output_type": "stream",
     "text": [
      "TF-IDF matrix shape: (2500, 5247)\n"
     ]
    }
   ],
   "source": [
    "tfidf = TfidfVectorizer(min_df=5, max_df=0.8, stop_words='english')\n",
    "tfidf_matrix = tfidf.fit_transform(df['content_string'])\n",
    "print(\"TF-IDF matrix shape:\", tfidf_matrix.shape)"
   ]
  },
  {
   "cell_type": "markdown",
   "id": "4e46d25e",
   "metadata": {},
   "source": [
    "Next calculate cosine similarity matrix."
   ]
  },
  {
   "cell_type": "code",
   "execution_count": 7,
   "id": "56e070a9",
   "metadata": {},
   "outputs": [
    {
     "name": "stdout",
     "output_type": "stream",
     "text": [
      "Cosine similarity matrix shape: (2500, 2500)\n"
     ]
    }
   ],
   "source": [
    "cosine_sim = cosine_similarity(tfidf_matrix)\n",
    "print(\"Cosine similarity matrix shape:\", cosine_sim.shape)"
   ]
  },
  {
   "cell_type": "markdown",
   "id": "acc4215f",
   "metadata": {},
   "source": [
    "# 2. Create a Recomendation Function"
   ]
  },
  {
   "cell_type": "code",
   "execution_count": 10,
   "id": "feee4171",
   "metadata": {},
   "outputs": [],
   "source": [
    "indices = pd.Series(df.index, index=df['mal_id'])\n",
    "def get_recommendations(liked_ids, cosine_sim, data=df):\n",
    "    liked_indices = [indices[mal_id] for mal_id in liked_ids if mal_id in indices]\n",
    "    \n",
    "    combined_scores = np.zeros(data.shape[0])\n",
    "    for idx in liked_indices:\n",
    "        combined_scores += cosine_sim[idx]\n",
    "\n",
    "    sim_scores_with_indices = list(enumerate(combined_scores))\n",
    "    sim_scores_with_indices = sorted(sim_scores_with_indices, key=lambda x: x[1], reverse=True)\n",
    "    top_anime_indices = [i[0] for i in sim_scores_with_indices][:15] \n",
    "    recommended_indices = [idx for idx in top_anime_indices if idx not in liked_indices][:10]\n",
    "    return data.iloc[recommended_indices][['mal_id', 'title', 'content_string']]"
   ]
  },
  {
   "cell_type": "markdown",
   "id": "f29d5867",
   "metadata": {},
   "source": [
    "# 3. Testing"
   ]
  },
  {
   "cell_type": "code",
   "execution_count": 14,
   "id": "aa0538a6",
   "metadata": {},
   "outputs": [
    {
     "name": "stdout",
     "output_type": "stream",
     "text": [
      "      mal_id                                              title  \\\n",
      "1645   50613     Rurouni Kenshin: Meiji Kenkaku Romantan (2023)   \n",
      "805       82  Kidou Senshi Gundam 0080: Pocket no Naka no Se...   \n",
      "1485      87             Kidou Senshi Gundam: Gyakushuu no Char   \n",
      "986       85                           Kidou Senshi Zeta Gundam   \n",
      "600    39592  Kidou Senshi Gundam: The Origin - Zenya Akai S...   \n",
      "880    31973                    Kidou Senshi Gundam Thunderbolt   \n",
      "1550      90                       Shin Kidou Senki Gundam Wing   \n",
      "1334      93                           Kidou Senshi Gundam SEED   \n",
      "\n",
      "                                         content_string  \n",
      "1645  Action Historical Samurai late 19th century cr...  \n",
      "805   Action Drama Sci Fi Mecha Military Space Alfre...  \n",
      "1485  Action Drama Sci Fi Mecha Military Space year ...  \n",
      "986   Action Drama Romance Sci Fi Mecha Military Spa...  \n",
      "600   Action Sci Fi Mecha Military Space tragedy dec...  \n",
      "880   Action Drama Sci Fi Mecha Military Space Unive...  \n",
      "1550  Action Drama Sci Fi Mecha Military Space Unite...  \n",
      "1334  Action Award Winning Drama Romance Sci Fi Mech...  \n"
     ]
    }
   ],
   "source": [
    "user_likes = [1, 15, 80, 52, 123, 20, 123, 45, 67, 89]  # Example user likes (mal_id)\n",
    "user_recommendations = get_recommendations(user_likes, cosine_sim)\n",
    "print(user_recommendations)"
   ]
  }
 ],
 "metadata": {
  "kernelspec": {
   "display_name": "Python 3",
   "language": "python",
   "name": "python3"
  },
  "language_info": {
   "codemirror_mode": {
    "name": "ipython",
    "version": 3
   },
   "file_extension": ".py",
   "mimetype": "text/x-python",
   "name": "python",
   "nbconvert_exporter": "python",
   "pygments_lexer": "ipython3",
   "version": "3.13.5"
  }
 },
 "nbformat": 4,
 "nbformat_minor": 5
}
